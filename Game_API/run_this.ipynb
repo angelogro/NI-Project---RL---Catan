{
 "cells": [
  {
   "cell_type": "code",
   "execution_count": 2,
   "metadata": {},
   "outputs": [
    {
     "ename": "ModuleNotFoundError",
     "evalue": "No module named 'maze_env'",
     "traceback": [
      "\u001b[0;31m---------------------------------------------------------------------------\u001b[0m",
      "\u001b[0;31mModuleNotFoundError\u001b[0m                       Traceback (most recent call last)",
      "\u001b[0;32m<ipython-input-2-9a1744780d84>\u001b[0m in \u001b[0;36m<module>\u001b[0;34m()\u001b[0m\n\u001b[0;32m----> 1\u001b[0;31m \u001b[0;32mfrom\u001b[0m \u001b[0mmaze_env\u001b[0m \u001b[0;32mimport\u001b[0m \u001b[0mMaze\u001b[0m\u001b[0;34m\u001b[0m\u001b[0;34m\u001b[0m\u001b[0m\n\u001b[0m\u001b[1;32m      2\u001b[0m \u001b[0;32mfrom\u001b[0m \u001b[0mRL_brain\u001b[0m \u001b[0;32mimport\u001b[0m \u001b[0mDeepQNetwork\u001b[0m\u001b[0;34m\u001b[0m\u001b[0;34m\u001b[0m\u001b[0m\n\u001b[1;32m      3\u001b[0m \u001b[0;34m\u001b[0m\u001b[0m\n\u001b[1;32m      4\u001b[0m \u001b[0;34m\u001b[0m\u001b[0m\n\u001b[1;32m      5\u001b[0m \u001b[0;32mdef\u001b[0m \u001b[0mrun_maze\u001b[0m\u001b[0;34m(\u001b[0m\u001b[0;34m)\u001b[0m\u001b[0;34m:\u001b[0m\u001b[0;34m\u001b[0m\u001b[0;34m\u001b[0m\u001b[0m\n",
      "\u001b[0;31mModuleNotFoundError\u001b[0m: No module named 'maze_env'"
     ],
     "output_type": "error"
    }
   ],
   "source": [
    "from Game import Game\n",
    "from RL import DeepQNetwork\n",
    "# -----TO DO -------- Loop over for 4 players\n",
    "\n",
    "def run_Game():\n",
    "    step = 0\n",
    "    for episode in range(300):\n",
    "        # initial observation, get state space\n",
    "        \n",
    "        # -----TO DO -------- Should have a method in Game to return the state space getStateSpace()\n",
    "        state_space = env.getStateSpace()\n",
    "        \n",
    "        print('Initial State Space',state_space)\n",
    "        while True:\n",
    "            # fresh env\n",
    "           # env.render()\n",
    "\n",
    "            # RL choose action based on state\n",
    "            action = RL_Catan.choose_action(state_space)\n",
    "\n",
    "            # The game executes the action chosen by RL and gets next state and reward\n",
    "            \n",
    "            state_space_, reward,action, done = env.step(action)\n",
    "\n",
    "\n",
    "           # -----TO DO -------- How to store the memory wrt to the player\n",
    "            \n",
    "            RL_Catan.store_transition(state_space, action, reward, state_space_)\n",
    "\n",
    "            if (step > 200) and (step % 5 == 0):\n",
    "                RL_Catan.learn()\n",
    "\n",
    "            # swap observation\n",
    "            state_space = state_space_\n",
    "\n",
    "            # break while loop when end of this episode\n",
    "            if done:\n",
    "                break\n",
    "            step += 1\n",
    "\n",
    "    # end of game\n",
    "    print('game over')\n",
    "    env.destroy()\n",
    "\n",
    "\n",
    "if __name__ == \"__main__\":\n",
    "    # Initilize the DQN and run the game\n",
    "    env = Game()\n",
    "    RL = DeepQNetwork(env.n_actions, env.n_features, # total action, total features/states\n",
    "                      learning_rate=0.01,\n",
    "                      reward_decay=0.9,\n",
    "                      e_greedy=0.9,\n",
    "                      replace_target_iter=200,\n",
    "                      memory_size=2000,\n",
    "                      # output_graph=True\n",
    "                      )\n",
    "    env.after(100, run_game)\n",
    "    env.mainloop()\n",
    "    RL.plot_cost()\n",
    "\n"
   ]
  },
  {
   "cell_type": "code",
   "execution_count": null,
   "metadata": {},
   "outputs": [],
   "source": []
  }
 ],
 "metadata": {
  "kernelspec": {
   "display_name": "Python 3",
   "language": "python",
   "name": "python3"
  },
  "language_info": {
   "codemirror_mode": {
    "name": "ipython",
    "version": 3
   },
   "file_extension": ".py",
   "mimetype": "text/x-python",
   "name": "python",
   "nbconvert_exporter": "python",
   "pygments_lexer": "ipython3",
   "version": "3.6.8"
  }
 },
 "nbformat": 4,
 "nbformat_minor": 2
}
